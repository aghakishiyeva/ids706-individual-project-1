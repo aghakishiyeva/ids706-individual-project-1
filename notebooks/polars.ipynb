{
 "cells": [
  {
   "cell_type": "code",
   "execution_count": 3,
   "id": "d6218135",
   "metadata": {},
   "outputs": [
    {
     "name": "stdout",
     "output_type": "stream",
     "text": [
      "Test passed\n"
     ]
    }
   ],
   "source": [
    "import os\n",
    "import polars as pl\n",
    "import matplotlib.pyplot as plt\n",
    "\n",
    "def read_dataset(file_path: str) -> pl.DataFrame:\n",
    "    if file_path.endswith('.csv'):\n",
    "        data = pl.read_csv(file_path, infer_schema_length=10000)\n",
    "    elif file_path.endswith('.xlsx'):\n",
    "        data = pl.read_excel(file_path, infer_schema_length=10000)\n",
    "    else:\n",
    "        raise ValueError(\"Unsupported file type\")\n",
    "    \n",
    "    return data\n",
    "\n",
    "def generate_summary_statistics(data: pl.DataFrame) -> dict:\n",
    "    if data is None or data.shape[0] == 0:\n",
    "        raise ValueError(\"Data cannot be None or empty\")\n",
    "\n",
    "    summary = {\n",
    "        \"mean\": data.mean().to_dict(),\n",
    "        \"median\": data.median().to_dict(),\n",
    "        \"std_dev\": data.std().to_dict()\n",
    "    }\n",
    "\n",
    "    return summary\n",
    "\n",
    "try:\n",
    "    read_dataset(\"winequality-red.csv\")\n",
    "    print(\"Test passed\")\n",
    "except Exception as e:\n",
    "    print(f\"Test failed: {e}\")"
   ]
  }
 ],
 "metadata": {
  "kernelspec": {
   "display_name": "Python 3 (ipykernel)",
   "language": "python",
   "name": "python3"
  },
  "language_info": {
   "codemirror_mode": {
    "name": "ipython",
    "version": 3
   },
   "file_extension": ".py",
   "mimetype": "text/x-python",
   "name": "python",
   "nbconvert_exporter": "python",
   "pygments_lexer": "ipython3",
   "version": "3.9.13"
  }
 },
 "nbformat": 4,
 "nbformat_minor": 5
}
