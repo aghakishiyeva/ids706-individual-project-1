{
 "cells": [
  {
   "cell_type": "code",
   "execution_count": 9,
   "id": "55abaa7c",
   "metadata": {},
   "outputs": [],
   "source": [
    "from src.lib import read_dataset, generate_summary_statistics\n",
    "\n",
    "try:\n",
    "    data = read_dataset(\"winequality-red.csv\")\n",
    "    summary = generate_summary_statistics(data)\n",
    "    print(\"Test passed\")\n",
    "    print(summary)\n",
    "except Exception as e:\n",
    "    print(f\"Test failed: {e}\")"
   ]
  }
 ],
 "metadata": {
  "kernelspec": {
   "display_name": "Python 3 (ipykernel)",
   "language": "python",
   "name": "python3"
  },
  "language_info": {
   "codemirror_mode": {
    "name": "ipython",
    "version": 3
   },
   "file_extension": ".py",
   "mimetype": "text/x-python",
   "name": "python",
   "nbconvert_exporter": "python",
   "pygments_lexer": "ipython3",
   "version": "3.9.13"
  }
 },
 "nbformat": 4,
 "nbformat_minor": 5
}
